{
 "cells": [
  {
   "cell_type": "markdown",
   "metadata": {
    "id": "KEk36hiNTbfE"
   },
   "source": [
    "# Introduction\n",
    "Efficient management of product information is essential for the success of e-commerce businesses. This information enables informed decision-making and facilitates effective marketing strategies. File handling plays a key role in being able to manage such data, and Python allows us to handle various file formats which are used to store such data.\n",
    "\n",
    "In this project, we are going to learn how to load, modify, and save files of three popular file formats which are used in the industry to handle data. These formats are:\n",
    "\n",
    "- **CSV**: CSV or comma-separated value files come with the file suffix *.csv* and, as the name suggests, have data values separated by commas. Each data entry is placed on a new line, and typically, the first line tends to store the names of columns. In our dataset, a CSV file is used to store sales values for each product over 14 days.\n",
    "\n",
    "- **JSON**: JSON or JavaScript object notation files come with the file suffix *.json* and store data as key-value pairs, similar to dictionaries in Python. In our dataset, JSON files are used to store details such as product names, prices, and brands.\n",
    "\n",
    "- **TXT**: TXT or text files come with the file suffix *.txt* and generally useful for storing single variables like strings or integers. In our dataset, TXT files are used to store descriptions of products."
   ]
  },
  {
   "cell_type": "markdown",
   "metadata": {
    "id": "_bIkNbC2z8oL"
   },
   "source": [
    "# Problem Statement\n",
    "The goal is to read data from popular file formats (.csv, .txt, .json), to perform operations on this data, and to finally save this modified data into the original file formats."
   ]
  },
  {
   "cell_type": "markdown",
   "metadata": {
    "id": "hJ1m6tWtIhXS"
   },
   "source": [
    "# Data Description\n",
    "The dataset for this project has been provided in the *mainfolder.zip* file. It contains data about products for which the unique ID provided is the stock keeping unit or SKU for short. The ZIP file contains a structured collection of sales data and product information organized into a main folder with three key components:\n",
    "\n",
    "- **Sales Data** (*sales_data.csv*): A CSV file that includes sales data for various products over a 14-day period. Each row corresponds to a different product, identified by a *Product_SKU*. The columns *Day1* through *Day14* represent the sales figures for each consecutive day.\n",
    "\n",
    "- **Product Descriptions** (*product_descriptions* folder): This folder contains text files, each corresponding to a specific product identified by the SKU in the filename (e.g., *description_AISJDKFJW93NJ.txt*). These files provide descriptive information about the products.\n",
    "\n",
    "- **Product Details** (*product_details* folder): This folder includes JSON files, again with filenames corresponding to product SKUs (e.g., *details_AISJDKFJW93NJ.json*). These files contain detailed attributes of the products, such as specifications, category, pricing, etc.\n",
    "\n",
    "This dataset is suitable for analyzing daily sales performance of products, supplemented with detailed product information and descriptions to allow for a comprehensive analysis of sales trends in relation to product attributes and descriptions."
   ]
  },
  {
   "cell_type": "markdown",
   "metadata": {
    "id": "TCi_8EQ_SKh2"
   },
   "source": [
    "# Outline\n",
    "The overall objective of this project is to create a system for managing product information in an e-commerce platform. The different stages involved in the process are outlined below:\n",
    "\n",
    "- Stage 1 - Set up project and load data\n",
    "    - Task 1 - Import required modules\n",
    "    - Task 2 - Load the data\n",
    "- Stage 2 - Create or update data\n",
    "    - Task 3 - Add or update sales data\n",
    "    - Task 4 - Add or update product details\n",
    "    - Task 5 - Add or update product description\n",
    "    - Task 6 - Update function\n",
    "- Stage 3 - Save data to disk\n",
    "    - Task 7 - Save data to disk"
   ]
  },
  {
   "cell_type": "markdown",
   "metadata": {
    "id": "nSDjItPDapX4"
   },
   "source": [
    "# Stage 1 - Set up project and load data\n",
    "In this stage, you will set up the environment for this assignment by loading the required modules and files. You will explore the files by displaying their content. You will achieve all of this by completing the following tasks:\n",
    "- Task 1 - Import required modules\n",
    "- Task 2 - Load the data"
   ]
  },
  {
   "cell_type": "markdown",
   "metadata": {
    "id": "7fwAly7Kc9ei"
   },
   "source": [
    "## Task 1 - Import required modules"
   ]
  },
  {
   "cell_type": "markdown",
   "metadata": {
    "id": "mWz3KDiuotgp"
   },
   "source": [
    "### Description\n",
    "In this task, you will import all the necessary modules and packages required for performing various operations in the project."
   ]
  },
  {
   "cell_type": "markdown",
   "metadata": {
    "id": "1IfJUOrG0JBZ"
   },
   "source": [
    "### Requirements\n",
    "Write code to import packages:\n",
    "\n",
    "- For navigating through files stored on your device or on Google Colaboratory\n",
    "- For working with JSON files\n",
    "- For working with CSV files"
   ]
  },
  {
   "cell_type": "markdown",
   "metadata": {
    "id": "tDTVcD_V0WVh"
   },
   "source": [
    "### Recommendations\n",
    "-  You can ask a generative AI tool like ChatGPT about the libraries that will be required to perform the given tasks.\n",
    "-  Have a look at each type of file to understand how data is stored within them."
   ]
  },
  {
   "cell_type": "markdown",
   "metadata": {
    "id": "3hjXLR-lwERP"
   },
   "source": [
    "First, import the required packages."
   ]
  },
  {
   "cell_type": "code",
   "execution_count": 1,
   "metadata": {
    "id": "uKKJxfEj6o1C"
   },
   "outputs": [],
   "source": [
    "# Use this cell to import all the required packages and methods\n",
    "\n",
    "# Import package for navigating through files stored on your device/on Google Colaboratory\n",
    "### CODE HERE ###\n",
    "\n",
    "# Import package for working with JSON files\n",
    "\n",
    "import os\n",
    "import json\n",
    "\n",
    "# Import package for working with CSV files\n",
    "\n",
    "import csv\n",
    "import pandas as pd\n",
    "\n",
    "\n",
    "# files_in_directory = os.listdir()\n",
    "# print(files_in_directory)\n"
   ]
  },
  {
   "cell_type": "markdown",
   "metadata": {
    "id": "CK1NbJlcow44"
   },
   "source": [
    "### Checklist\n",
    "- Imported the required packages."
   ]
  },
  {
   "cell_type": "markdown",
   "metadata": {
    "id": "BOLRp-Ydph2X"
   },
   "source": [
    "## Task 2 - Load the data"
   ]
  },
  {
   "cell_type": "markdown",
   "metadata": {
    "id": "n3LqSPrspl8b"
   },
   "source": [
    "### Description\n",
    "In this task, you will write a function that ensures that the necessary files are loaded into the environment. To index the data, you will use a unique identifier called SKU.\n",
    "\n",
    "This includes loading sales data from a CSV file, product details from JSON files, and product descriptions from text files. We recommend that you either use Jupyter Notebook or Google Colab to build and execute your code."
   ]
  },
  {
   "cell_type": "markdown",
   "metadata": {
    "id": "x1pJXGbJqeIy"
   },
   "source": [
    "### Requirements\n",
    "- In case you are using Google Colab:\n",
    "    - upload your files directly from your PC to colab or\n",
    "    - import `drive` from `google.colab` and mount your Google Drive\n",
    "- In case you are using Jupyter Notebook, please make sure that your files and folders are all in the right place.\n",
    "- Unzip the data and save the location of the main folder in a variable called `main_folder_address`.\n",
    "- Define a function `load_data()`:\n",
    "    - The function must read\n",
    "      - Sales data from *sales_data.csv* file,\n",
    "      - Product details from JSON files in the *product_details* folder, and\n",
    "      - Product descriptions from the TXT files in *product_descriptions* folder.\n",
    "      \n",
    "    - Once the data has been loaded, it must be stored in three dictionaries, one for sales data, another for product details, and another for product descriptions.\n",
    "    - The three dictionaries should have the product SKU as keys and:\n",
    "        - In the `product_details` dictionary, the values should also be dictionaries containing detailed attributes of the products, such as specifications, category, pricing, etc.\n",
    "        - In the `sales_data` dictionary, the values should be lists consisting of the sales data from the last 14 days.\n",
    "        - In the `product_descriptions` dictionary, the values should be strings in which the product description is saved.\n",
    "    - It should have the following keyword argument:\n",
    "        - *mainfolder*: A string that describes the address of the parent data folder in the memory.\n",
    "    - The functions should return a tuple containing three dictionaries:\n",
    "        - `product_details`: A dictionary of dictionaries where keys are product SKUs (extracted from the filenames of the JSON files) and values are product details loaded from the JSON files.\n",
    "        - `sales_data`: A dictionary where keys are product SKUs (from the CSV file) and values are lists of quantities corresponding to sales data.\n",
    "        - `product_descriptions`: A dictionary where keys are product SKUs (extracted from the filenames of the TXT files) and values are product descriptions loaded from TXT files."
   ]
  },
  {
   "cell_type": "markdown",
   "metadata": {
    "id": "5lfU3Pq-67sn"
   },
   "source": [
    "### Recommendations\n",
    "- If you are using Google Colab:\n",
    "  - Upload the zip file containing the files in Google Drive or upload the zip file directly to the Google Colab runtime.\n",
    "    - Then unzip it using `unzip` shell command which you can access using the `!` (exclamation mark) character.\n",
    "  - Once you have mounted Google Drive into your Google Colab VM or uploaded the zip file directly to the Google Colab runtime.\n",
    "    - You can use the *Files* section on the left to access the filesystem. You can right click on a file or folder to copy its path. This will be useful while specifying the source file in the `unzip` shell command.\n",
    "  - You will need to pass the location of the main folder into the `load_data()` function to load *sales_data.csv* file and the files in *product_details* and *product_description* folders.\n",
    "- Inside the `load_data()` function, you can:\n",
    "    - use the `csv.DictReader()` method to read the *sales_data.csv* file, and to store the data as dictionaries with key-value pairs where the keys correspond to the column names in the first row,\n",
    "    - use the `os.listdir()` method to obtain the names of the files and folders within a particular folder,\n",
    "    - use `os.path.join()` to construct file paths,\n",
    "    - use the `json.load()` method to load JSON files, and\n",
    "    - use the `open()` function to load the text files.\n",
    "-  As you need to use the SKUs as keys in all three dictionaries, you can ask a generative AI tool like ChatGPT on how to extract the SKU values in all three cases.\n",
    "    - In *sales_data.csv* they have been saved in a column titled *Product_SKU*\n",
    "    - For the other two, you need to extract the SKU from the file name: you must obtain the SKU which lies between the prefix and the suffix. Try using the in-built string function `split()` (additionally, you can use `replace()` if you wish to write the code in one line).\n",
    "    - Provide the data description and requirements to ChatGPT along with the libraries that you are using and ask it to generate code for the function.\n",
    "    - If you get stuck somewhere, you can ask ChatGPT to explain the code to you and you can make edits as required."
   ]
  },
  {
   "cell_type": "markdown",
   "metadata": {
    "id": "VQRLEoiZ-QxY"
   },
   "source": [
    "First, if you are using Google Colab, mount Google Drive to your VM. If not, skip and comment out this cell."
   ]
  },
  {
   "cell_type": "code",
   "execution_count": null,
   "metadata": {
    "id": "SKYzyofLO8KU"
   },
   "outputs": [],
   "source": [
    "# Use this cell to write your code for mounting your Google Drive\n",
    "# Note: If you are not using Google Colab, please skip this cell\n",
    "\n",
    "# In case you are using Google Colab, mount your Google Drive before moving on\n",
    "# from google.colab import drive\n",
    "# drive.mount('/content/drive', force_remount = True)"
   ]
  },
  {
   "cell_type": "markdown",
   "metadata": {
    "id": "EChyWcmq-5Vi"
   },
   "source": [
    "If you are using Colab, after mounting the drive you need to unzip the files to extract all the images inside it. Note that you don't need to perform this step more than once, so we recommend that you comment out your code for this step once it has executed."
   ]
  },
  {
   "cell_type": "code",
   "execution_count": 2,
   "metadata": {
    "id": "-6mxIHoPO7Um"
   },
   "outputs": [
    {
     "name": "stdout",
     "output_type": "stream",
     "text": [
      "C:\\Users\\AAFREEN MOYAL\\Desktop\\upGrad\\Module-5(Course-2) Assignment\\Project_File Handling\\extracted_mainfolder\n"
     ]
    }
   ],
   "source": [
    "\n",
    "import zipfile\n",
    "# Define the relative paths for the zip file and extraction folder\n",
    "zip_file_name = 'mainfolder.zip'\n",
    "extract_folder_name = 'extracted_mainfolder'\n",
    "\n",
    "# Get the current working directory (cross-platform)\n",
    "current_dir = os.getcwd()\n",
    "\n",
    "# Use os.path.join to create the full paths\n",
    "zip_file_path = os.path.join(current_dir, zip_file_name)\n",
    "extract_dir = os.path.join(current_dir, extract_folder_name)\n",
    "\n",
    "# Unzip the file to the extract directory\n",
    "with zipfile.ZipFile(zip_file_path, 'r') as zip_ref:\n",
    "    zip_ref.extractall(extract_dir)\n",
    "\n",
    "# Get the absolute path to the main extracted folder\n",
    "main_folder_address = os.path.abspath(extract_dir)\n",
    "print(main_folder_address)\n"
   ]
  },
  {
   "cell_type": "markdown",
   "metadata": {
    "id": "LeX06K8AFxnC"
   },
   "source": [
    "**Alternatively,** you can also upload files to the Google Colab runtime environment without mounting Google Drive. In this case so you will always be in the same path/directory inside your Google Colab runtime. Files will be saved into your runtime and not into your Google Drive.\n",
    "The files you uploaded will be available until you delete the runtime."
   ]
  },
  {
   "cell_type": "code",
   "execution_count": null,
   "metadata": {
    "id": "eupwHKLZEE3b"
   },
   "outputs": [],
   "source": [
    "# Use this cell to write your code for uploading the zip file\n",
    "# Note: If you are not using Google Colab, please skip this cell\n",
    "\n",
    "# Upload the zip file to Google Colab runtime\n",
    "# from google.colab import files\n",
    "# uploaded = files.upload()"
   ]
  },
  {
   "cell_type": "markdown",
   "metadata": {
    "id": "ze-qtCwAGlhp"
   },
   "source": [
    "After uploading your zip file to Google Colab runtime you need to unzip the files to extract all the files inside it."
   ]
  },
  {
   "cell_type": "code",
   "execution_count": null,
   "metadata": {
    "id": "JpKP8qUVuC2n"
   },
   "outputs": [],
   "source": [
    "# Use this cell to write your code for unzipping the data and storing it in Google Colab runtime\n",
    "# Note: If you are not using Google Colab, please skip this cell\n",
    "# Note: You can comment out this cell after running it once\n",
    "\n",
    "# Unzip your files and store them in Google Colab runtime\n",
    "# !unzip /content/mainfolder.zip"
   ]
  },
  {
   "cell_type": "markdown",
   "metadata": {
    "id": "DiYKN_QJlRBE"
   },
   "source": [
    "Now define the *load_data()* function."
   ]
  },
  {
   "cell_type": "code",
   "execution_count": 3,
   "metadata": {
    "id": "lh8skyqy7Qb6"
   },
   "outputs": [],
   "source": [
    "def load_data(main_folder):\n",
    "    \"\"\"\n",
    "    Load product details, sales data, and product descriptions from files within the specified zip file.\n",
    "\n",
    "    Parameters:\n",
    "        main_folder (str): The path to the zip file containing the dataset.\n",
    "\n",
    "    Returns:\n",
    "        tuple: A tuple containing three dictionaries:\n",
    "            - product_details (dict): A dictionary of dictionaries where keys are product SKUs (extracted from the filenames of the JSON files)\n",
    "              and values are product details loaded from the JSON files.\n",
    "            - sales_data (dict): A dictionary where keys are product SKUs (from the CSV file) and values are lists\n",
    "              of quantities corresponding to sales data.\n",
    "            - product_descriptions (dict): A dictionary where keys are product SKUs (extracted from the filenames of the TXT files)\n",
    "              and values are product descriptions loaded from TXT files.\n",
    "    \"\"\"\n",
    "    # Initialize empty dictionaries\n",
    "    product_details = {}\n",
    "    sales_data = {}\n",
    "    product_descriptions = {}\n",
    "    \n",
    "    # 1. Load Sales Data from CSV\n",
    "    sales_data_path = os.path.join(main_folder, 'sales_data.csv')\n",
    "    with open(sales_data_path, mode='r',encoding='utf-8') as csv_file:\n",
    "        sales_data = {row['Product_SKU']: [int(row[f'Day{i+1}']) for i in range(14)] for row in csv.DictReader(csv_file)}\n",
    "    \n",
    "    # 2. Load Product Details from JSON files\n",
    "    product_details_folder = os.path.join(main_folder, 'product_details')\n",
    "    \n",
    "    for f in os.listdir(product_details_folder):\n",
    "        if f.endswith('.json'):\n",
    "            file_path = os.path.join(product_details_folder, f)\n",
    "            sku = os.path.splitext(f)[0]\n",
    "            with open(file_path, 'r', encoding='utf-8') as json_file:  \n",
    "                product_details[sku] = json.load(json_file)\n",
    "    \n",
    "    # 3. Load Product Descriptions from TXT files\n",
    "    product_descriptions_folder = os.path.join(main_folder, 'product_descriptions')\n",
    "    \n",
    "    for f in os.listdir(product_descriptions_folder):\n",
    "        if f.endswith('.txt'):\n",
    "            file_path = os.path.join(product_descriptions_folder, f)\n",
    "            sku = os.path.splitext(f)[0]\n",
    "            with open(file_path, 'r', encoding='utf-8') as txt_file: \n",
    "                product_descriptions[sku] = txt_file.read()\n",
    "    \n",
    "    # Return the three dictionaries as a tuple\n",
    "    return product_details, sales_data, product_descriptions"
   ]
  },
  {
   "cell_type": "markdown",
   "metadata": {
    "id": "bRjwNJj67LP_"
   },
   "source": [
    "Load your data here"
   ]
  },
  {
   "cell_type": "code",
   "execution_count": 5,
   "metadata": {
    "id": "mkeH5Ba17Qmv"
   },
   "outputs": [
    {
     "name": "stdout",
     "output_type": "stream",
     "text": [
      "Product Details:\n",
      " {\n",
      "    \"details_AISJDKFJW93NJ\": {\n",
      "        \"product_name\": \"Wall Art Print\",\n",
      "        \"brand\": \"ArtCraft\",\n",
      "        \"model\": \"NatureCanvas-1001\",\n",
      "        \"specifications\": \"Canvas print, Ready to hang\",\n",
      "        \"price\": \"$49.99\",\n",
      "        \"availability\": \"In stock\"\n",
      "    },\n",
      "    \"details_DJKFIEI432FIE\": {\n",
      "        \"product_name\": \"Men's Running Shoes\",\n",
      "        \"brand\": \"RunFit\",\n",
      "        \"model\": \"SpeedX-500\",\n",
      "        \"specifications\": \"Size 10, Lightweight design, Breathable material\",\n",
      "        \"price\": \"$79.99\",\n",
      "        \"availability\": \"In stock\"\n",
      "    },\n",
      "    \"details_GGOENEBJ079499\": {\n",
      "        \"product_name\": \"Smartphone\",\n",
      "        \"brand\": \"XYZ Electronics\",\n",
      "        \"model\": \"ABC-2000\",\n",
      "        \"specifications\": \"6.5-inch display, 128GB storage, 16MP camera\",\n",
      "        \"price\": \"$499.99\",\n",
      "        \"availability\": \"In stock\"\n",
      "    },\n",
      "    \"details_HJSKNWK429DJE\": {\n",
      "        \"product_name\": \"Wireless Earbuds\",\n",
      "        \"brand\": \"SoundSync\",\n",
      "        \"model\": \"TunePro-2022\",\n",
      "        \"specifications\": \"Bluetooth 5.0, 20 hours battery life, Touch controls\",\n",
      "        \"price\": \"$89.99\",\n",
      "        \"availability\": \"In stock\"\n",
      "    },\n",
      "    \"details_JFKL3940NFKLJ\": {\n",
      "        \"product_name\": \"Resistance Bands Set\",\n",
      "        \"brand\": \"FitFlex\",\n",
      "        \"model\": \"StrengthPro-300\",\n",
      "        \"specifications\": \"5 bands, Varying resistance levels, Portable\",\n",
      "        \"price\": \"$34.99\",\n",
      "        \"availability\": \"In stock\"\n",
      "    },\n",
      "    \"details_LKDFJ49LSDJKL\": {\n",
      "        \"product_name\": \"Anti-Aging Face Cream\",\n",
      "        \"brand\": \"GlowBeauty\",\n",
      "        \"model\": \"AgeDefy-300\",\n",
      "        \"specifications\": \"Natural ingredients, Hydrating formula\",\n",
      "        \"price\": \"$39.99\",\n",
      "        \"availability\": \"In stock\"\n",
      "    },\n",
      "    \"details_MWKDI3JFK39SL\": {\n",
      "        \"product_name\": \"Fictional Novel\",\n",
      "        \"brand\": \"BestBooks\",\n",
      "        \"model\": null,\n",
      "        \"specifications\": \"Paperback, 300 pages\",\n",
      "        \"price\": \"$14.99\",\n",
      "        \"availability\": \"In stock\"\n",
      "    },\n",
      "    \"details_NEKFJOWE9FDIW\": {\n",
      "        \"product_name\": \"Board Game\",\n",
      "        \"brand\": \"FamilyFun\",\n",
      "        \"model\": \"GameNight-2022\",\n",
      "        \"specifications\": \"2-6 players, Ages 8 and up\",\n",
      "        \"price\": \"$29.99\",\n",
      "        \"availability\": \"In stock\"\n",
      "    },\n",
      "    \"details_OWEJL398FWJLK\": {\n",
      "        \"product_name\": \"Yoga Mat\",\n",
      "        \"brand\": \"ZenFitness\",\n",
      "        \"model\": \"EcoMat-500\",\n",
      "        \"specifications\": \"Non-slip, 6mm thickness, Eco-friendly material\",\n",
      "        \"price\": \"$19.99\",\n",
      "        \"availability\": \"In stock\"\n",
      "    },\n",
      "    \"details_XPLFJW2490XJN\": {\n",
      "        \"product_name\": \"Robot Vacuum Cleaner\",\n",
      "        \"brand\": \"CleanTech\",\n",
      "        \"model\": \"AutoSweep-9000\",\n",
      "        \"specifications\": \"Smart navigation, HEPA filter, 90 minutes runtime\",\n",
      "        \"price\": \"$249.99\",\n",
      "        \"availability\": \"In stock\"\n",
      "    }\n",
      "}\n",
      "\n",
      "Sales Data:\n",
      " {\n",
      "    \"AISJDKFJW93NJ\": [\n",
      "        10,\n",
      "        12,\n",
      "        15,\n",
      "        18,\n",
      "        20,\n",
      "        22,\n",
      "        25,\n",
      "        28,\n",
      "        26,\n",
      "        30,\n",
      "        32,\n",
      "        29,\n",
      "        27,\n",
      "        24\n",
      "    ],\n",
      "\n",
      "    \"DJKFIEI432FIE\": [\n",
      "        8,\n",
      "        10,\n",
      "        12,\n",
      "        15,\n",
      "        20,\n",
      "        18,\n",
      "        14,\n",
      "        13,\n",
      "        17,\n",
      "        10,\n",
      "        8,\n",
      "        11,\n",
      "        14,\n",
      "        16\n",
      "    ],\n",
      "\n",
      "    \"GGOENEBJ079499\": [\n",
      "        15,\n",
      "        18,\n",
      "        22,\n",
      "        25,\n",
      "        28,\n",
      "        20,\n",
      "        17,\n",
      "        23,\n",
      "        19,\n",
      "        21,\n",
      "        24,\n",
      "        27,\n",
      "        18,\n",
      "        20\n",
      "    ],\n",
      "\n",
      "    \"HJSKNWK429DJE\": [\n",
      "        30,\n",
      "        32,\n",
      "        35,\n",
      "        38,\n",
      "        40,\n",
      "        42,\n",
      "        45,\n",
      "        48,\n",
      "        50,\n",
      "        52,\n",
      "        55,\n",
      "        53,\n",
      "        49,\n",
      "        47\n",
      "    ],\n",
      "\n",
      "    \"JFKL3940NFKLJ\": [\n",
      "        18,\n",
      "        20,\n",
      "        22,\n",
      "        25,\n",
      "        28,\n",
      "        30,\n",
      "        32,\n",
      "        35,\n",
      "        38,\n",
      "        36,\n",
      "        33,\n",
      "        29,\n",
      "        26,\n",
      "        24\n",
      "    ],\n",
      "\n",
      "    \"LKDFJ49LSDJKL\": [\n",
      "        25,\n",
      "        28,\n",
      "        30,\n",
      "        32,\n",
      "        35,\n",
      "        38,\n",
      "        42,\n",
      "        40,\n",
      "        37,\n",
      "        34,\n",
      "        36,\n",
      "        31,\n",
      "        29,\n",
      "        27\n",
      "    ],\n",
      "\n",
      "    \"MWKDI3JFK39SL\": [\n",
      "        30,\n",
      "        35,\n",
      "        40,\n",
      "        45,\n",
      "        50,\n",
      "        42,\n",
      "        37,\n",
      "        38,\n",
      "        41,\n",
      "        36,\n",
      "        33,\n",
      "        39,\n",
      "        40,\n",
      "        44\n",
      "    ],\n",
      "\n",
      "    \"NEKFJOWE9FDIW\": [\n",
      "        12,\n",
      "        15,\n",
      "        18,\n",
      "        20,\n",
      "        22,\n",
      "        24,\n",
      "        21,\n",
      "        23,\n",
      "        25,\n",
      "        28,\n",
      "        30,\n",
      "        27,\n",
      "        26,\n",
      "        29\n",
      "    ],\n",
      "\n",
      "    \"OWEJL398FWJLK\": [\n",
      "        20,\n",
      "        22,\n",
      "        25,\n",
      "        28,\n",
      "        30,\n",
      "        32,\n",
      "        35,\n",
      "        38,\n",
      "        36,\n",
      "        33,\n",
      "        29,\n",
      "        26,\n",
      "        24,\n",
      "        27\n",
      "    ],\n",
      "\n",
      "    \"XPLFJW2490XJN\": [\n",
      "        5,\n",
      "        8,\n",
      "        9,\n",
      "        12,\n",
      "        15,\n",
      "        10,\n",
      "        14,\n",
      "        16,\n",
      "        20,\n",
      "        18,\n",
      "        22,\n",
      "        25,\n",
      "        19,\n",
      "        21\n",
      "    ]\n",
      "}\n",
      "\n",
      "Product Descriptions:\n",
      " {\n",
      "    \"description_AISJDKFJW93NJ\": \"Transform your living space with ArtCraft's NatureCanvas-1001 Wall Art Print.\\nThis canvas print, ready to hang, brings the beauty of nature into your home.\\nWith dimensions of 16 x 20 inches and a 4.6/5 stars rating, it's a stunning addition to your decor, creating a focal point that captures attention and sparks conversation.\",\n",
      "    \"description_DJKFIEI432FIE\": \"Elevate your running experience with the RunFit SpeedX-500 Men's Running Shoes.\\nDesigned for performance, these shoes feature a lightweight design, breathable material, and are available in vibrant Red, Blue, and classic Black.\\nWhether you're a seasoned runner or just starting, these shoes provide comfort and support for every stride, ensuring you reach new milestones effortlessly.\",\n",
      "    \"description_GGOENEBJ079499\": \"Dive into the future with the XYZ Electronics Smartphone, model ABC-2000.\\nBoasting a 6.5-inch display, 128GB storage, and a 16MP camera, this powerful device redefines the smartphone experience.\\nWith a sleek design and available in Black, Silver, and Blue, it combines cutting-edge technology with style, ensuring you stay connected in the most sophisticated way possible.\",\n",
      "    \"description_HJSKNWK429DJE\": \"Immerse yourself in superior audio quality with SoundSync's TunePro-2022 Wireless Earbuds.\\nFeaturing Bluetooth 5.0, 20 hours of battery life, and touch controls, these earbuds deliver a seamless and immersive listening experience.\\nAvailable in Black and White, they combine style with functionality for music lovers on the go. \\nWith a 4.7/5 stars rating, they stand out as a top choice in the realm of wireless audio.\",\n",
      "    \"description_JFKL3940NFKLJ\": \"Embrace versatility in your workouts with FitFlex's StrengthPro-300 Resistance Bands Set.\\nWith 5 bands offering varying resistance levels and portability, this set is your go-to for effective strength training.\\nAvailable in Red, Yellow, and Blue, it caters to different fitness levels and adds a dynamic dimension to your exercise routine.\",\n",
      "    \"description_LKDFJ49LSDJKL\": \"Rediscover youthful radiance with GlowBeauty's AgeDefy-300 Anti-Aging Face Cream.\\nFormulated with natural ingredients and a hydrating formula, this skincare essential rejuvenates and nourishes your skin, leaving you with a vibrant and refreshed complexion.\\nWith a stellar 4.7/5 stars rating, it's a must-have for those embracing the journey to ageless beauty.\",\n",
      "    \"description_MWKDI3JFK39SL\": \"Immerse yourself in the world of storytelling with BestBooks' Fictional Novel.\\nThis paperback, spanning 300 pages, promises a captivating journey through the pages of an engaging narrative.\\nIdeal for avid readers seeking an escape, this novel, with a 4.6/5 stars rating, is a testament to its ability to weave a compelling tale that keeps you hooked until the last page.\",\n",
      "    \"description_NEKFJOWE9FDIW\": \"Unleash the fun with FamilyFun's GameNight-2022 Board Game.\\nDesigned for 2-6 players and suitable for ages 8 and up, this exciting game promises laughter and bonding moments for the entire family.\\nWith a 4.4/5 stars rating, it's a testament to its ability to turn any ordinary night into an extraordinary game night filled with friendly competition and shared joy.\",\n",
      "    \"description_OWEJL398FWJLK\": \"Elevate your yoga practice with ZenFitness' EcoMat-500 Yoga Mat.\\nFeaturing a non-slip surface, 6mm thickness, and eco-friendly materials, this high-quality mat provides the perfect foundation for your workouts.\\nAvailable in Purple, Green, and Blue, it not only enhances your comfort but also adds a touch of serenity to your exercise routine.\",\n",
      "    \"description_XPLFJW2490XJN\": \"Introducing the CleanTech AutoSweep-9000 Robot Vacuum Cleaner \\u2013 your smart companion for automated cleaning.\\nWith smart navigation, a HEPA filter, and a runtime of 90 minutes, this efficient device takes care of your cleaning needs.\\nAvailable in White and Silver, it blends seamlessly into your home, making cleanliness a hassle-free experience.\"\n",
      "}\n"
     ]
    },
    {
     "name": "stderr",
     "output_type": "stream",
     "text": [
      "<>:4: SyntaxWarning: invalid escape sequence '\\m'\n",
      "<>:4: SyntaxWarning: invalid escape sequence '\\m'\n",
      "C:\\Users\\AAFREEN MOYAL\\AppData\\Local\\Temp\\ipykernel_16584\\4058107333.py:4: SyntaxWarning: invalid escape sequence '\\m'\n",
      "  main_folder_address = main_folder_address+'\\mainfolder'\n"
     ]
    }
   ],
   "source": [
    "# Use this cell to load the files\n",
    "from pathlib import Path\n",
    "#comment the below line after running it once!\n",
    "main_folder_address = main_folder_address+'\\mainfolder'\n",
    "\n",
    "# Load the data\n",
    "product_details, sales_data, product_descriptions = load_data(main_folder_address)\n",
    "\n",
    "# Inspecting the loaded data\n",
    "#printing the loaded data as before.\n",
    "print(\"Product Details:\\n\", json.dumps(product_details, indent=4))\n",
    "print(\"\\nSales Data:\\n\", json.dumps(sales_data, indent=4, separators=(',', ': ')).replace('],', '],\\n'))\n",
    "print(\"\\nProduct Descriptions:\\n\", json.dumps(product_descriptions, indent=4))\n"
   ]
  },
  {
   "cell_type": "markdown",
   "metadata": {
    "id": "Rf3FIRGg_G2b"
   },
   "source": [
    "### Checklist\n",
    "- Defined the `load_data()` function which takes in the given keyword arguments and returns the given variables.\n",
    "- Used the `load_data()` function to load data into `sales_data`, `product_details` and `product_descriptions`.\n",
    "- `sales_data, product_details` and `product_descriptions` are of the type `dict`.\n",
    "- Items in `sales_data, product_details`, and `product_descriptions` are as follows:\n",
    "    - `sales_data` contains product SKUs mapped to lists of whole numbers representing the amount of product sold per day,\n",
    "    - `product_details` contains product SKUs mapped to dictionaries containing various details such as product name, brand, model, specifications, price, and availability, and\n",
    "    - `product_descriptions` contains product SKUs mapped to strings representing descriptions of the corresponding products."
   ]
  },
  {
   "cell_type": "markdown",
   "metadata": {
    "id": "-s3el3T2A41B"
   },
   "source": [
    "# Stage 2 - Update data\n",
    "In this stage, you will define a function `update()` to add sales data, product details, and product descriptions for a new product or update an existing product. If the product does not exist, the function will default to creating a new product. If the product exists, the function will instead update that product. You will also define some sub-functions to complete smaller tasks.\n",
    "\n",
    "You will achieve this by completing the following tasks:\n",
    "- Task 3 - Update sales data\n",
    "- Task 4 - Update product details\n",
    "- Task 5 - Update product description\n",
    "- Task 6 - Update function"
   ]
  },
  {
   "cell_type": "markdown",
   "metadata": {
    "id": "KR9w5MtF2iuy"
   },
   "source": [
    "## Task 3 - Update sales data"
   ]
  },
  {
   "cell_type": "markdown",
   "metadata": {
    "id": "3sv3srpNP0by"
   },
   "source": [
    "### Description\n",
    "In this task, you will write a function to add sales data for a new product or update sales data for an existing product given the SKU and the quantities that need to be added or updated."
   ]
  },
  {
   "cell_type": "markdown",
   "metadata": {
    "id": "yuS0kGCbP93D"
   },
   "source": [
    "### Requirements\n",
    "- Define a function named `update_sales_data()` that:\n",
    "  - Adds new sales data or updates existing sales data to the `sales_data` dicitionary using the SKU as a key.\n",
    "  - The function should accept the following parameters:\n",
    "    - the `sales_data` dictionary,\n",
    "    - the `sku` value, and\n",
    "    - a list called `quantities` consisting of numeric sales data.\n",
    "- The function should return:\n",
    "    - The updated `sales_data` dictionary after creating the entry for the new SKU or updating the entry for an existing SKU."
   ]
  },
  {
   "cell_type": "code",
   "execution_count": 6,
   "metadata": {
    "id": "RdPeCXd22MJ5"
   },
   "outputs": [],
   "source": [
    "def update_sales_data(sales_data, sku, quantities):\n",
    "    \"\"\"\n",
    "    Add sales data for a new product SKU or update the sales data for an existing product SKU.\n",
    "\n",
    "    Parameters:\n",
    "        sales_data (dict): The dictionary containing sales data.\n",
    "        sku (str): The product SKU.\n",
    "        quantities (list of int): List of quantities sold for each of the past 14 days.\n",
    "\n",
    "    Returns:\n",
    "        dict: The updated sales data after adding the entry for the new SKU or modifying the entry for an existing SKU.\n",
    "    \"\"\"\n",
    "    \n",
    "    # Update the sales data for the given SKU\n",
    "    sales_data[sku] = quantities\n",
    "    return sales_data"
   ]
  },
  {
   "cell_type": "markdown",
   "metadata": {
    "id": "vOvcL_J5Cn51"
   },
   "source": [
    "Check your code here."
   ]
  },
  {
   "cell_type": "code",
   "execution_count": 7,
   "metadata": {
    "id": "Uzf-TuD5CqEm"
   },
   "outputs": [
    {
     "data": {
      "text/plain": [
       "{'AISJDKFJW93NJ': [11, 13, 16, 19, 21, 23, 26, 29, 27, 31, 33, 30, 28, 25],\n",
       " 'DJKFIEI432FIE': [8, 10, 12, 15, 20, 18, 14, 13, 17, 10, 8, 11, 14, 16],\n",
       " 'GGOENEBJ079499': [15, 18, 22, 25, 28, 20, 17, 23, 19, 21, 24, 27, 18, 20],\n",
       " 'HJSKNWK429DJE': [30, 32, 35, 38, 40, 42, 45, 48, 50, 52, 55, 53, 49, 47],\n",
       " 'JFKL3940NFKLJ': [18, 20, 22, 25, 28, 30, 32, 35, 38, 36, 33, 29, 26, 24],\n",
       " 'LKDFJ49LSDJKL': [25, 28, 30, 32, 35, 38, 42, 40, 37, 34, 36, 31, 29, 27],\n",
       " 'MWKDI3JFK39SL': [30, 35, 40, 45, 50, 42, 37, 38, 41, 36, 33, 39, 40, 44],\n",
       " 'NEKFJOWE9FDIW': [12, 15, 18, 20, 22, 24, 21, 23, 25, 28, 30, 27, 26, 29],\n",
       " 'OWEJL398FWJLK': [20, 22, 25, 28, 30, 32, 35, 38, 36, 33, 29, 26, 24, 27],\n",
       " 'XPLFJW2490XJN': [5, 8, 9, 12, 15, 10, 14, 16, 20, 18, 22, 25, 19, 21]}"
      ]
     },
     "execution_count": 7,
     "metadata": {},
     "output_type": "execute_result"
    }
   ],
   "source": [
    "sales_data = update_sales_data(sales_data,\n",
    "                                'AISJDKFJW93NJ',\n",
    "                                [11, 13, 16, 19, 21, 23, 26, 29, 27, 31, 33, 30, 28, 25])\n",
    "sales_data"
   ]
  },
  {
   "cell_type": "markdown",
   "metadata": {
    "id": "iJ1PeYvAP9nI"
   },
   "source": [
    "### Checklist\n",
    "- Function `update_sales_data()` defined.\n",
    "- Modified the `sales_data` dictionary to reflect the newly added or updated product.\n",
    "- Updated `sales_data` dictionary returned."
   ]
  },
  {
   "cell_type": "markdown",
   "metadata": {
    "id": "276dzYC32PIS"
   },
   "source": [
    "## Task 4 - Update product details"
   ]
  },
  {
   "cell_type": "markdown",
   "metadata": {
    "id": "-I8sKosLT5sl"
   },
   "source": [
    "### Description\n",
    "In this task, you will write a function to add product details for a new product or update product details for an existing product using the product SKU."
   ]
  },
  {
   "cell_type": "markdown",
   "metadata": {
    "id": "OkfZCY48T5ss"
   },
   "source": [
    "### Requirements\n",
    "- Define a function named `update_product_details()` that adds new product details to or updates existing product details in the `product_details` dictionary using the SKU as the key.\n",
    "- The function should accept three parameters:\n",
    "  - the `product_details` dictionary,\n",
    "  - the `sku` value, and\n",
    "  - a dictionary called `product_info` containing the details of the product, such as product name, brand, model, specifications, price, and availability.\n",
    "- The function adds the `product_info` dictionary to the `product_details` dictionary with the provided SKU as the key if the SKU does not exist, or updates the existing entry if it does.\n",
    "- Return the updated `product_details` dictionary."
   ]
  },
  {
   "cell_type": "code",
   "execution_count": 8,
   "metadata": {
    "id": "uiOO_eNr2PkA"
   },
   "outputs": [],
   "source": [
    "def update_product_details(product_details, sku, product_info):\n",
    "    \"\"\"\n",
    "    Create a new product/update an existing product details entry in the product details dictionary using the provided product information.\n",
    "\n",
    "    Parameters:\n",
    "        product_details (dict): The dictionary containing product details.\n",
    "        sku (str): The product SKU.\n",
    "        product_info (dict): A dictionary containing the details of the product, such as product name, brand, model, specifications, price, and availability.\n",
    "\n",
    "    Returns:\n",
    "        dict: The updated product details with the new or updated product entry.\n",
    "    \"\"\"\n",
    "    # Update the product details for the given SKU\n",
    "    product_details[sku] = product_info\n",
    "    return product_details"
   ]
  },
  {
   "cell_type": "markdown",
   "metadata": {
    "id": "cpYk9yK1Cq5H"
   },
   "source": [
    "Check your code here."
   ]
  },
  {
   "cell_type": "code",
   "execution_count": 9,
   "metadata": {
    "id": "6ljskEWSCrQq"
   },
   "outputs": [
    {
     "data": {
      "text/plain": [
       "{'details_AISJDKFJW93NJ': {'product_name': 'Wall Art Print (Framed)',\n",
       "  'brand': 'ArtCraft',\n",
       "  'model': 'NatureCanvas-1001',\n",
       "  'specifications': 'Framed canvas print, Ready to hang',\n",
       "  'price': '$69.99',\n",
       "  'availability': 'In stock'},\n",
       " 'details_DJKFIEI432FIE': {'product_name': \"Men's Running Shoes\",\n",
       "  'brand': 'RunFit',\n",
       "  'model': 'SpeedX-500',\n",
       "  'specifications': 'Size 10, Lightweight design, Breathable material',\n",
       "  'price': '$79.99',\n",
       "  'availability': 'In stock'},\n",
       " 'details_GGOENEBJ079499': {'product_name': 'Smartphone',\n",
       "  'brand': 'XYZ Electronics',\n",
       "  'model': 'ABC-2000',\n",
       "  'specifications': '6.5-inch display, 128GB storage, 16MP camera',\n",
       "  'price': '$499.99',\n",
       "  'availability': 'In stock'},\n",
       " 'details_HJSKNWK429DJE': {'product_name': 'Wireless Earbuds',\n",
       "  'brand': 'SoundSync',\n",
       "  'model': 'TunePro-2022',\n",
       "  'specifications': 'Bluetooth 5.0, 20 hours battery life, Touch controls',\n",
       "  'price': '$89.99',\n",
       "  'availability': 'In stock'},\n",
       " 'details_JFKL3940NFKLJ': {'product_name': 'Resistance Bands Set',\n",
       "  'brand': 'FitFlex',\n",
       "  'model': 'StrengthPro-300',\n",
       "  'specifications': '5 bands, Varying resistance levels, Portable',\n",
       "  'price': '$34.99',\n",
       "  'availability': 'In stock'},\n",
       " 'details_LKDFJ49LSDJKL': {'product_name': 'Anti-Aging Face Cream',\n",
       "  'brand': 'GlowBeauty',\n",
       "  'model': 'AgeDefy-300',\n",
       "  'specifications': 'Natural ingredients, Hydrating formula',\n",
       "  'price': '$39.99',\n",
       "  'availability': 'In stock'},\n",
       " 'details_MWKDI3JFK39SL': {'product_name': 'Fictional Novel',\n",
       "  'brand': 'BestBooks',\n",
       "  'model': None,\n",
       "  'specifications': 'Paperback, 300 pages',\n",
       "  'price': '$14.99',\n",
       "  'availability': 'In stock'},\n",
       " 'details_NEKFJOWE9FDIW': {'product_name': 'Board Game',\n",
       "  'brand': 'FamilyFun',\n",
       "  'model': 'GameNight-2022',\n",
       "  'specifications': '2-6 players, Ages 8 and up',\n",
       "  'price': '$29.99',\n",
       "  'availability': 'In stock'},\n",
       " 'details_OWEJL398FWJLK': {'product_name': 'Yoga Mat',\n",
       "  'brand': 'ZenFitness',\n",
       "  'model': 'EcoMat-500',\n",
       "  'specifications': 'Non-slip, 6mm thickness, Eco-friendly material',\n",
       "  'price': '$19.99',\n",
       "  'availability': 'In stock'},\n",
       " 'details_XPLFJW2490XJN': {'product_name': 'Robot Vacuum Cleaner',\n",
       "  'brand': 'CleanTech',\n",
       "  'model': 'AutoSweep-9000',\n",
       "  'specifications': 'Smart navigation, HEPA filter, 90 minutes runtime',\n",
       "  'price': '$249.99',\n",
       "  'availability': 'In stock'}}"
      ]
     },
     "execution_count": 9,
     "metadata": {},
     "output_type": "execute_result"
    }
   ],
   "source": [
    "updated_product_info = {\n",
    "    'product_name': 'Wall Art Print (Framed)',\n",
    "    'brand': 'ArtCraft',\n",
    "    'model': 'NatureCanvas-1001',\n",
    "    'specifications': 'Framed canvas print, Ready to hang',\n",
    "    'price': '$69.99',\n",
    "    'availability': 'In stock'\n",
    "}\n",
    "product_details = update_product_details(product_details,\n",
    "                                          'details_AISJDKFJW93NJ',\n",
    "                                           updated_product_info)\n",
    "product_details"
   ]
  },
  {
   "cell_type": "markdown",
   "metadata": {
    "id": "UK1tyUi4UDwK"
   },
   "source": [
    "### Checklist\n",
    "- Function `update_product_details()` defined.\n",
    "- Modified the `product_details` dictionary to reflect the newly added or updated product.\n",
    "- Updated `product_details` dictionary returned."
   ]
  },
  {
   "cell_type": "markdown",
   "metadata": {
    "id": "NbsIu0TT2R4H"
   },
   "source": [
    "## Task 5 - Update product description"
   ]
  },
  {
   "cell_type": "markdown",
   "metadata": {
    "id": "eLsJVtWtT6Wn"
   },
   "source": [
    "### Description\n",
    "In this task, you will write a function to add a product description for the new product using its product SKU."
   ]
  },
  {
   "cell_type": "markdown",
   "metadata": {
    "id": "ZYE0bb3bT6Wn"
   },
   "source": [
    "### Requirements\n",
    "- Define a function named `update_product_description()` that adds a new product description to or updates an existing product description in the `product_descriptions` dictionary using the SKU as the key.\n",
    "- The function should accept three parameters:\n",
    "  - the `product_descriptions` dictionary,\n",
    "  - the `sku` value, and\n",
    "  - the `description`, a string containing the description of the product.\n",
    "- The function adds the new product description to the `product_descriptions` dictionary with the provided SKU as the key if the SKU does not exist, or updates the existing entry if it does.\n",
    "- Return the updated `product_descriptions` dictionary."
   ]
  },
  {
   "cell_type": "code",
   "execution_count": 10,
   "metadata": {
    "id": "gto9F0P82SIv"
   },
   "outputs": [],
   "source": [
    "def update_product_description(product_descriptions, sku, description):\n",
    "    \"\"\"\n",
    "    Adds a new product/updates an existing product description to the product descriptions dictionary using the provided SKU as the key.\n",
    "\n",
    "    Parameters:\n",
    "        product_descriptions (dict): The dictionary containing existing product descriptions.\n",
    "        sku (str): The product SKU.\n",
    "        description (str): The description of the product.\n",
    "\n",
    "    Returns:\n",
    "        dict: The updated product descriptions dictionary with the new or updated product description.\n",
    "    \"\"\"\n",
    "\n",
    "    # Update the product description for the given SKU\n",
    "    product_descriptions[sku] = description\n",
    "\n",
    "    return product_descriptions"
   ]
  },
  {
   "cell_type": "markdown",
   "metadata": {
    "id": "pDn1TCSLCr_R"
   },
   "source": [
    "Check your code here."
   ]
  },
  {
   "cell_type": "code",
   "execution_count": 11,
   "metadata": {
    "id": "4rm960DECsUF"
   },
   "outputs": [
    {
     "data": {
      "text/plain": [
       "{'description_AISJDKFJW93NJ': \"Transform your living space with ArtCraft's NatureCanvas-1001 Wall Art Print (Framed).\\nThis framed canvas print, ready to hang, enhances the beauty of nature in your home.\\nWith dimensions of 16 x 20 inches, it features a 4.7/5 stars rating and adds a modern touch to your decor.\",\n",
       " 'description_DJKFIEI432FIE': \"Elevate your running experience with the RunFit SpeedX-500 Men's Running Shoes.\\nDesigned for performance, these shoes feature a lightweight design, breathable material, and are available in vibrant Red, Blue, and classic Black.\\nWhether you're a seasoned runner or just starting, these shoes provide comfort and support for every stride, ensuring you reach new milestones effortlessly.\",\n",
       " 'description_GGOENEBJ079499': 'Dive into the future with the XYZ Electronics Smartphone, model ABC-2000.\\nBoasting a 6.5-inch display, 128GB storage, and a 16MP camera, this powerful device redefines the smartphone experience.\\nWith a sleek design and available in Black, Silver, and Blue, it combines cutting-edge technology with style, ensuring you stay connected in the most sophisticated way possible.',\n",
       " 'description_HJSKNWK429DJE': \"Immerse yourself in superior audio quality with SoundSync's TunePro-2022 Wireless Earbuds.\\nFeaturing Bluetooth 5.0, 20 hours of battery life, and touch controls, these earbuds deliver a seamless and immersive listening experience.\\nAvailable in Black and White, they combine style with functionality for music lovers on the go. \\nWith a 4.7/5 stars rating, they stand out as a top choice in the realm of wireless audio.\",\n",
       " 'description_JFKL3940NFKLJ': \"Embrace versatility in your workouts with FitFlex's StrengthPro-300 Resistance Bands Set.\\nWith 5 bands offering varying resistance levels and portability, this set is your go-to for effective strength training.\\nAvailable in Red, Yellow, and Blue, it caters to different fitness levels and adds a dynamic dimension to your exercise routine.\",\n",
       " 'description_LKDFJ49LSDJKL': \"Rediscover youthful radiance with GlowBeauty's AgeDefy-300 Anti-Aging Face Cream.\\nFormulated with natural ingredients and a hydrating formula, this skincare essential rejuvenates and nourishes your skin, leaving you with a vibrant and refreshed complexion.\\nWith a stellar 4.7/5 stars rating, it's a must-have for those embracing the journey to ageless beauty.\",\n",
       " 'description_MWKDI3JFK39SL': \"Immerse yourself in the world of storytelling with BestBooks' Fictional Novel.\\nThis paperback, spanning 300 pages, promises a captivating journey through the pages of an engaging narrative.\\nIdeal for avid readers seeking an escape, this novel, with a 4.6/5 stars rating, is a testament to its ability to weave a compelling tale that keeps you hooked until the last page.\",\n",
       " 'description_NEKFJOWE9FDIW': \"Unleash the fun with FamilyFun's GameNight-2022 Board Game.\\nDesigned for 2-6 players and suitable for ages 8 and up, this exciting game promises laughter and bonding moments for the entire family.\\nWith a 4.4/5 stars rating, it's a testament to its ability to turn any ordinary night into an extraordinary game night filled with friendly competition and shared joy.\",\n",
       " 'description_OWEJL398FWJLK': \"Elevate your yoga practice with ZenFitness' EcoMat-500 Yoga Mat.\\nFeaturing a non-slip surface, 6mm thickness, and eco-friendly materials, this high-quality mat provides the perfect foundation for your workouts.\\nAvailable in Purple, Green, and Blue, it not only enhances your comfort but also adds a touch of serenity to your exercise routine.\",\n",
       " 'description_XPLFJW2490XJN': 'Introducing the CleanTech AutoSweep-9000 Robot Vacuum Cleaner – your smart companion for automated cleaning.\\nWith smart navigation, a HEPA filter, and a runtime of 90 minutes, this efficient device takes care of your cleaning needs.\\nAvailable in White and Silver, it blends seamlessly into your home, making cleanliness a hassle-free experience.'}"
      ]
     },
     "execution_count": 11,
     "metadata": {},
     "output_type": "execute_result"
    }
   ],
   "source": [
    "updated_description = (\n",
    "    \"Transform your living space with ArtCraft's NatureCanvas-1001 Wall Art Print (Framed).\\n\"\n",
    "    \"This framed canvas print, ready to hang, enhances the beauty of nature in your home.\\n\"\n",
    "    \"With dimensions of 16 x 20 inches, it features a 4.7/5 stars rating and adds a modern touch to your decor.\"\n",
    ")\n",
    "product_descriptions = update_product_description(product_descriptions,\n",
    "                                                  'description_AISJDKFJW93NJ',\n",
    "                                                   updated_description)\n",
    "product_descriptions"
   ]
  },
  {
   "cell_type": "markdown",
   "metadata": {
    "id": "HxVoqK32UEpS"
   },
   "source": [
    "### Checklist\n",
    "- Function `update_product_description()` defined\n",
    "- Modified `product_descriptions` dictionary to reflect the newly added or updated description.\n",
    "- Updated `product_descriptions` dictionary returned"
   ]
  },
  {
   "cell_type": "markdown",
   "metadata": {
    "id": "R5N6bVo82VF3"
   },
   "source": [
    "## Task 6 - Update function"
   ]
  },
  {
   "cell_type": "markdown",
   "metadata": {
    "id": "a8ACLR0kT65r"
   },
   "source": [
    "### Description\n",
    "In this task, you will write a function that combines the functionalities of adding sales data, product details, and product description for a new product SKU, or updating these for an existing product SKU."
   ]
  },
  {
   "cell_type": "markdown",
   "metadata": {
    "id": "GLPOHSC5T65r"
   },
   "source": [
    "### Requirements\n",
    "- Define a function named `update()` that collects comprehensive information about a new or existing product from the user, validates the input, and modifies the respective dictionaries with product details, sales data, and product descriptions to reflect the addition or update of the provided product.\n",
    "- The function should accept three parameters:\n",
    "  - `product_details`: A dictionary containing product details. Each entry maps an SKU to its corresponding product details.\n",
    "  - `sales_data`: A dictionary containing sales data. Each entry maps an SKU to a list of sales quantities for the last 14 days.\n",
    "  - `product_descriptions`: A dictionary containing product descriptions. Each entry maps an SKU to its corresponding textual description.\n",
    "- The function performs several operations:\n",
    "  - Prompts the user to input the SKU, which must be exactly 13 characters long. If the SKU does not meet this requirement, print an error message and terminate the function without updating any dictionaries.\n",
    "  - Prompts the user to enter sales data for the last 14 days, which must consist of exactly 14 whole numbers separated by spaces. If the input does not meet this criterion, print an error message and terminate the function without updating any dictionaries.\n",
    "  - Collects product details from the user, including name, brand, model, specifications, price, and availability. These inputs are required but not subject to specific validation criteria for this function.\n",
    "  - Prompts the user for a product description, which is also required for successful product registration.\n",
    "- If all inputs are validated successfully, the function updates the `product_details`, `sales_data`, and `product_descriptions` dictionaries with the provided product information and prints a success message.\n",
    "- Returns a tuple containing the updated `product_details`, `sales_data`, and `product_descriptions` dictionaries in that order.\n",
    "- The function is designed for use when a new product is to be added to the system or when an existing product in the system needs to be updated, and requires the caller to pass the current state of the `product_details`, `sales_data`, and `product_descriptions` dictionaries.\n"
   ]
  },
  {
   "cell_type": "markdown",
   "metadata": {
    "id": "DdqcaLI1T65s"
   },
   "source": [
    "### Recommendations\n",
    "- You can use if-else statements to check the validity of the data inputted by the user.\n",
    "- Use a list comprehension to prepare the sales data before saving it in the dictionary.\n",
    "- Use the previously defined functions to perform the actions after validating user's input."
   ]
  },
  {
   "cell_type": "code",
   "execution_count": 12,
   "metadata": {
    "id": "-nqyMs8IPhnR"
   },
   "outputs": [],
   "source": [
    "def update(product_details, sales_data, product_descriptions):\n",
    "    \"\"\"\n",
    "    Collects comprehensive information about a new or existing product from the user, validates the input, and updates the respective dictionaries with product details, sales data, and descriptions.\n",
    "\n",
    "    This function performs a series of prompts to the user to input the SKU, sales data for the last 14 days, product details (including name, brand, model, specifications, price, and availability), and a product description. Each input is validated for specific criteria:\n",
    "\n",
    "    - The SKU must be exactly 13 characters long.\n",
    "    - Sales data must consist of exactly 14 whole numbers, representing sales for the last 14 days.\n",
    "    - Product details and description inputs are collected without specific validation but are required for successful product registration.\n",
    "\n",
    "    If any validation fails, the function prints an error message and terminates without updating any of the dictionaries, ensuring data integrity and consistency across product records.\n",
    "\n",
    "    Parameters:\n",
    "        product_details (dict): A dictionary containing existing product details. Each entry maps an SKU to its corresponding product details.\n",
    "        sales_data (dict): A dictionary containing sales data. Each entry maps an SKU to a list of sales quantities for the last 14 days.\n",
    "        product_descriptions (dict): A dictionary containing product descriptions. Each entry maps an SKU to its corresponding textual description.\n",
    "\n",
    "    Returns:\n",
    "        tuple: A tuple containing the updated dictionaries (product_details, sales_data, product_descriptions) in that order.\n",
    "\n",
    "    Usage:\n",
    "        The function is designed to be called when a new product is to be added to the system or an existing one in the system is to be updated. It requires the caller to pass the current state of the product_details, sales_data, and product_descriptions dictionaries, and returns their updated states.\n",
    "    \"\"\"\n",
    "\n",
    "    \n",
    "    # Input SKU and validation\n",
    "    sku = input(\"Enter the SKU (13 characters long): \")\n",
    "    if len(sku) != 13:\n",
    "        print(\"Error: SKU must be exactly 13 characters long.\")\n",
    "\n",
    "    # Input sales data and validation\n",
    "    sales_input = input(\"Enter sales data for the last 14 days (14 whole numbers separated by spaces): \")\n",
    "    sales_quantities = sales_input.split()\n",
    "\n",
    "    if len(sales_quantities) != 14 or not all(q.isdigit() for q in sales_quantities):\n",
    "        print(\"Error: Sales data must consist of exactly 14 whole numbers.\")\n",
    "\n",
    "    sales_quantities = [int(q) for q in sales_quantities]\n",
    "\n",
    "    # Input product details\n",
    "    product_name = input(\"Enter the product name: \")\n",
    "    brand = input(\"Enter the product brand: \")\n",
    "    model = input(\"Enter the product model: \")\n",
    "    specifications = input(\"Enter the product specifications: \")\n",
    "    price = input(\"Enter the product price: \")\n",
    "    availability = input(\"Enter the product availability: \")\n",
    "\n",
    "    product_info = {\n",
    "        \"name\": product_name,\n",
    "        \"brand\": brand,\n",
    "        \"model\": model,\n",
    "        \"specifications\": specifications,\n",
    "        \"price\": price,\n",
    "        \"availability\": availability\n",
    "    }\n",
    "\n",
    "    # Input product description\n",
    "    description = input(\"Enter the product description: \")\n",
    "\n",
    "    # Update the dictionaries using the helper functions\n",
    "    product_details = update_product_details(product_details, sku, product_info)\n",
    "    sales_data = update_sales_data(sales_data, sku, sales_quantities)\n",
    "    product_descriptions = update_product_description(product_descriptions, sku, description)\n",
    "\n",
    "    print(\"Product details, sales data, and description updated successfully.\")\n",
    "    \n",
    "    return product_details, sales_data, product_descriptions"
   ]
  },
  {
   "cell_type": "markdown",
   "metadata": {
    "id": "LEyahKVZCtpR"
   },
   "source": [
    "Check your code here."
   ]
  },
  {
   "cell_type": "code",
   "execution_count": 13,
   "metadata": {
    "id": "IxJZUWfX9Rgs"
   },
   "outputs": [
    {
     "name": "stdin",
     "output_type": "stream",
     "text": [
      "Enter the SKU (13 characters long):  ABC1122334455\n",
      "Enter sales data for the last 14 days (14 whole numbers separated by spaces):  8 12 7 6 9 5 10 15 18 22 19 13 11 8\n",
      "Enter the product name:  Smartwatch Z\n",
      "Enter the product brand:  FitTech\n",
      "Enter the product model:  SW300\n",
      "Enter the product specifications:  1.5 inch display, 32GB storage, Heart-rate monitor, GPS\n",
      "Enter the product price:  $299.99\n",
      "Enter the product availability:  In Stock\n",
      "Enter the product description:  A cutting-edge smartwatch with advanced health tracking features.\n"
     ]
    },
    {
     "name": "stdout",
     "output_type": "stream",
     "text": [
      "Product details, sales data, and description updated successfully.\n"
     ]
    }
   ],
   "source": [
    "product_details, sales_data, product_descriptions = update(product_details, sales_data, product_descriptions)\n"
   ]
  },
  {
   "cell_type": "code",
   "execution_count": 14,
   "metadata": {},
   "outputs": [
    {
     "name": "stdout",
     "output_type": "stream",
     "text": [
      "{'details_AISJDKFJW93NJ': {'product_name': 'Wall Art Print (Framed)', 'brand': 'ArtCraft', 'model': 'NatureCanvas-1001', 'specifications': 'Framed canvas print, Ready to hang', 'price': '$69.99', 'availability': 'In stock'}, 'details_DJKFIEI432FIE': {'product_name': \"Men's Running Shoes\", 'brand': 'RunFit', 'model': 'SpeedX-500', 'specifications': 'Size 10, Lightweight design, Breathable material', 'price': '$79.99', 'availability': 'In stock'}, 'details_GGOENEBJ079499': {'product_name': 'Smartphone', 'brand': 'XYZ Electronics', 'model': 'ABC-2000', 'specifications': '6.5-inch display, 128GB storage, 16MP camera', 'price': '$499.99', 'availability': 'In stock'}, 'details_HJSKNWK429DJE': {'product_name': 'Wireless Earbuds', 'brand': 'SoundSync', 'model': 'TunePro-2022', 'specifications': 'Bluetooth 5.0, 20 hours battery life, Touch controls', 'price': '$89.99', 'availability': 'In stock'}, 'details_JFKL3940NFKLJ': {'product_name': 'Resistance Bands Set', 'brand': 'FitFlex', 'model': 'StrengthPro-300', 'specifications': '5 bands, Varying resistance levels, Portable', 'price': '$34.99', 'availability': 'In stock'}, 'details_LKDFJ49LSDJKL': {'product_name': 'Anti-Aging Face Cream', 'brand': 'GlowBeauty', 'model': 'AgeDefy-300', 'specifications': 'Natural ingredients, Hydrating formula', 'price': '$39.99', 'availability': 'In stock'}, 'details_MWKDI3JFK39SL': {'product_name': 'Fictional Novel', 'brand': 'BestBooks', 'model': None, 'specifications': 'Paperback, 300 pages', 'price': '$14.99', 'availability': 'In stock'}, 'details_NEKFJOWE9FDIW': {'product_name': 'Board Game', 'brand': 'FamilyFun', 'model': 'GameNight-2022', 'specifications': '2-6 players, Ages 8 and up', 'price': '$29.99', 'availability': 'In stock'}, 'details_OWEJL398FWJLK': {'product_name': 'Yoga Mat', 'brand': 'ZenFitness', 'model': 'EcoMat-500', 'specifications': 'Non-slip, 6mm thickness, Eco-friendly material', 'price': '$19.99', 'availability': 'In stock'}, 'details_XPLFJW2490XJN': {'product_name': 'Robot Vacuum Cleaner', 'brand': 'CleanTech', 'model': 'AutoSweep-9000', 'specifications': 'Smart navigation, HEPA filter, 90 minutes runtime', 'price': '$249.99', 'availability': 'In stock'}, 'ABC1122334455': {'name': 'Smartwatch Z', 'brand': 'FitTech', 'model': 'SW300', 'specifications': '1.5 inch display, 32GB storage, Heart-rate monitor, GPS', 'price': '$299.99', 'availability': 'In Stock'}} {'AISJDKFJW93NJ': [11, 13, 16, 19, 21, 23, 26, 29, 27, 31, 33, 30, 28, 25], 'DJKFIEI432FIE': [8, 10, 12, 15, 20, 18, 14, 13, 17, 10, 8, 11, 14, 16], 'GGOENEBJ079499': [15, 18, 22, 25, 28, 20, 17, 23, 19, 21, 24, 27, 18, 20], 'HJSKNWK429DJE': [30, 32, 35, 38, 40, 42, 45, 48, 50, 52, 55, 53, 49, 47], 'JFKL3940NFKLJ': [18, 20, 22, 25, 28, 30, 32, 35, 38, 36, 33, 29, 26, 24], 'LKDFJ49LSDJKL': [25, 28, 30, 32, 35, 38, 42, 40, 37, 34, 36, 31, 29, 27], 'MWKDI3JFK39SL': [30, 35, 40, 45, 50, 42, 37, 38, 41, 36, 33, 39, 40, 44], 'NEKFJOWE9FDIW': [12, 15, 18, 20, 22, 24, 21, 23, 25, 28, 30, 27, 26, 29], 'OWEJL398FWJLK': [20, 22, 25, 28, 30, 32, 35, 38, 36, 33, 29, 26, 24, 27], 'XPLFJW2490XJN': [5, 8, 9, 12, 15, 10, 14, 16, 20, 18, 22, 25, 19, 21], 'ABC1122334455': [8, 12, 7, 6, 9, 5, 10, 15, 18, 22, 19, 13, 11, 8]} {'description_AISJDKFJW93NJ': \"Transform your living space with ArtCraft's NatureCanvas-1001 Wall Art Print (Framed).\\nThis framed canvas print, ready to hang, enhances the beauty of nature in your home.\\nWith dimensions of 16 x 20 inches, it features a 4.7/5 stars rating and adds a modern touch to your decor.\", 'description_DJKFIEI432FIE': \"Elevate your running experience with the RunFit SpeedX-500 Men's Running Shoes.\\nDesigned for performance, these shoes feature a lightweight design, breathable material, and are available in vibrant Red, Blue, and classic Black.\\nWhether you're a seasoned runner or just starting, these shoes provide comfort and support for every stride, ensuring you reach new milestones effortlessly.\", 'description_GGOENEBJ079499': 'Dive into the future with the XYZ Electronics Smartphone, model ABC-2000.\\nBoasting a 6.5-inch display, 128GB storage, and a 16MP camera, this powerful device redefines the smartphone experience.\\nWith a sleek design and available in Black, Silver, and Blue, it combines cutting-edge technology with style, ensuring you stay connected in the most sophisticated way possible.', 'description_HJSKNWK429DJE': \"Immerse yourself in superior audio quality with SoundSync's TunePro-2022 Wireless Earbuds.\\nFeaturing Bluetooth 5.0, 20 hours of battery life, and touch controls, these earbuds deliver a seamless and immersive listening experience.\\nAvailable in Black and White, they combine style with functionality for music lovers on the go. \\nWith a 4.7/5 stars rating, they stand out as a top choice in the realm of wireless audio.\", 'description_JFKL3940NFKLJ': \"Embrace versatility in your workouts with FitFlex's StrengthPro-300 Resistance Bands Set.\\nWith 5 bands offering varying resistance levels and portability, this set is your go-to for effective strength training.\\nAvailable in Red, Yellow, and Blue, it caters to different fitness levels and adds a dynamic dimension to your exercise routine.\", 'description_LKDFJ49LSDJKL': \"Rediscover youthful radiance with GlowBeauty's AgeDefy-300 Anti-Aging Face Cream.\\nFormulated with natural ingredients and a hydrating formula, this skincare essential rejuvenates and nourishes your skin, leaving you with a vibrant and refreshed complexion.\\nWith a stellar 4.7/5 stars rating, it's a must-have for those embracing the journey to ageless beauty.\", 'description_MWKDI3JFK39SL': \"Immerse yourself in the world of storytelling with BestBooks' Fictional Novel.\\nThis paperback, spanning 300 pages, promises a captivating journey through the pages of an engaging narrative.\\nIdeal for avid readers seeking an escape, this novel, with a 4.6/5 stars rating, is a testament to its ability to weave a compelling tale that keeps you hooked until the last page.\", 'description_NEKFJOWE9FDIW': \"Unleash the fun with FamilyFun's GameNight-2022 Board Game.\\nDesigned for 2-6 players and suitable for ages 8 and up, this exciting game promises laughter and bonding moments for the entire family.\\nWith a 4.4/5 stars rating, it's a testament to its ability to turn any ordinary night into an extraordinary game night filled with friendly competition and shared joy.\", 'description_OWEJL398FWJLK': \"Elevate your yoga practice with ZenFitness' EcoMat-500 Yoga Mat.\\nFeaturing a non-slip surface, 6mm thickness, and eco-friendly materials, this high-quality mat provides the perfect foundation for your workouts.\\nAvailable in Purple, Green, and Blue, it not only enhances your comfort but also adds a touch of serenity to your exercise routine.\", 'description_XPLFJW2490XJN': 'Introducing the CleanTech AutoSweep-9000 Robot Vacuum Cleaner – your smart companion for automated cleaning.\\nWith smart navigation, a HEPA filter, and a runtime of 90 minutes, this efficient device takes care of your cleaning needs.\\nAvailable in White and Silver, it blends seamlessly into your home, making cleanliness a hassle-free experience.', 'ABC1122334455': 'A cutting-edge smartwatch with advanced health tracking features.'}\n"
     ]
    }
   ],
   "source": [
    "print(product_details, sales_data, product_descriptions )"
   ]
  },
  {
   "cell_type": "markdown",
   "metadata": {
    "id": "aC5XgGg0UF4n"
   },
   "source": [
    "### Checklist\n",
    "- Prompt for and validate SKU length (13 characters).\n",
    "- Collected sales data for 14 days and ensure it includes exactly 14 whole numbers.\n",
    "- Gathered product name, brand, model, specifications, price, and availability.\n",
    "- Collected a textual description of the product.\n",
    "- Updated `product_details`, `sales_data`, and `product_descriptions` dictionaries after successful data validation.\n",
    "- Returned the updated dictionaries in the correct order.\n",
    "- Performed all validations before dictionary updates to maintain data integrity."
   ]
  },
  {
   "cell_type": "markdown",
   "metadata": {
    "id": "q8WDGtEcj_Xn"
   },
   "source": [
    "# Stage 3 - Save data to disk\n",
    "In the this stage, learners are tasked with creating a `dump_data()` function which will allow the newly modified files to be saved in their corresponding file formats: CSV for sales data, JSON for product details, and plain text (.txt) for product descriptions.\n",
    "\n",
    "You will achieve this by completing the following task:\n",
    "- Task 7 - Save data to disk"
   ]
  },
  {
   "cell_type": "markdown",
   "metadata": {
    "id": "ccFlC9OGdejQ"
   },
   "source": [
    "## Task 7 - Save data to disk"
   ]
  },
  {
   "cell_type": "markdown",
   "metadata": {
    "id": "UqDs8HZ7dYZx"
   },
   "source": [
    "### Description\n",
    "In this task, learners are tasked with implementing a Python function named `dump_data()` that automates the process of persisting sales data, product details, and product descriptions into structured files within a specified directory. The function should efficiently organize and dump each type of data into its corresponding file format: CSV for sales data, JSON for product details, and plain text for product descriptions. This exercise challenges learners to apply file I/O operations, directory management, and data serialization techniques in Python, ensuring they gain practical experience with data persistence, manipulation, and organization on the filesystem."
   ]
  },
  {
   "cell_type": "markdown",
   "metadata": {
    "id": "ffUjhTwTdYRw"
   },
   "source": [
    "### Requirements\n",
    "- Define a function named `dump_data()` that dumps product details, sales data, and product descriptions into files within a specified main folder.\n",
    "- The function should accept four parameters:\n",
    "  - `sales_data`: A dictionary containing sales data, with SKU as keys and a list of sales quantities for the last 14 days as values.\n",
    "  - `product_details`: A dictionary containing product details, with SKU as keys and details as values. Details include attributes like name, brand, model, specifications, price, and availability.\n",
    "  - `product_descriptions`: A dictionary containing product descriptions, with SKU as keys and the textual description of the product as values.\n",
    "  - `main_folder`: A string representing the location of the main folder, which should contain *product_details* and *product_descriptions* subfolders.\n",
    "- The function performs the following operations:\n",
    "  - Dumps the `sales_data` into a CSV file named *sales_data.csv* located in the *main_folder*. Each row in the CSV file represents the sales data for a product, with fields for the SKU and sales quantities for each of the 14 days.\n",
    "  - Dumps each entry in `product_details` into a separate JSON file within the *product_details* subfolder of the *main_folder*. Each file is named after the SKU of the product and contains the details of that product in JSON format.\n",
    "  - Dumps each product description from `product_descriptions` into a separate TXT file within the *product_descriptions* subfolder of the *main_folder*. Each file is named after the SKU of the product and contains the textual description of that product.\n",
    "- Prior to dumping product details and descriptions, the function checks if the respective subfolders exist. If not, it creates them.\n",
    "- Usage:\n",
    "  - The function is designed to persist the current state of sales data, product details, and product descriptions to the filesystem, allowing for data backup and recovery. It organizes the persisted data into a structured directory and file system based on the specified *main_folder* path.\n"
   ]
  },
  {
   "cell_type": "markdown",
   "metadata": {
    "id": "bvtuWxwvdYOD"
   },
   "source": [
    "### Recommendations\n",
    "- Ensure that you are writing the data down with the same folder structure as the original folder.\n",
    "- You may want to learn more about the `DictWriter()` object from the `csv` library to write the sales data.\n",
    "- Make sure that you open files with a 'w' (write) parameter so that you are overwriting the files and not appending to them."
   ]
  },
  {
   "cell_type": "code",
   "execution_count": 15,
   "metadata": {
    "id": "PMuHRcMELNoq"
   },
   "outputs": [],
   "source": [
    "def dump_data(sales_data, product_details, product_descriptions, main_folder):\n",
    "    \"\"\"\n",
    "    Dump product details, sales data, and product descriptions to files.\n",
    "\n",
    "    Parameters:\n",
    "        sales_data (dict): The dictionary containing sales data.\n",
    "        product_details (dict): The dictionary containing product details.\n",
    "        product_descriptions (dict): The dictionary containing product descriptions.\n",
    "        main_folder (str): The location of the main folder containing product_details and product_descriptions folders.\n",
    "    \"\"\"\n",
    "\n",
    "    # Define the file paths\n",
    "    sales_data_file = os.path.join(main_folder, 'sales_data.csv')\n",
    "    product_details_folder = os.path.join(main_folder, 'product_details')\n",
    "    product_descriptions_folder = os.path.join(main_folder, 'product_descriptions')\n",
    "\n",
    "   \n",
    "    \n",
    "    os.makedirs(product_details_folder, exist_ok=True)\n",
    "    os.makedirs(product_descriptions_folder, exist_ok=True)\n",
    "\n",
    "    # Dump sales data to a CSV file\n",
    "    with open(sales_data_file, mode='w', newline='', encoding='utf-8') as csvfile:  \n",
    "        # Create a CSV writer\n",
    "        writer = csv.writer(csvfile)\n",
    "        # Write the header row\n",
    "        header = ['Product_SKU'] + [f'Day{day}' for day in range(1, 15)]\n",
    "        writer.writerow(header)\n",
    "        # Write sales data rows\n",
    "        for sku, quantities in sales_data.items():\n",
    "            writer.writerow([sku] + quantities)\n",
    "\n",
    "    # Dump product details to JSON files\n",
    "    for sku, details in product_details.items():\n",
    "        details_file = os.path.join(product_details_folder, f'{sku}.json')\n",
    "        with open(details_file, mode='w',encoding='utf-8') as jsonfile:\n",
    "            json.dump(details, jsonfile, indent=4)\n",
    "\n",
    "    # Dump product descriptions to TXT files\n",
    "    for sku, description in product_descriptions.items():\n",
    "        description_file = os.path.join(product_descriptions_folder, f'{sku}.txt')\n",
    "        with open(description_file, mode='w',encoding='utf-8') as txtfile:\n",
    "            txtfile.write(description)"
   ]
  },
  {
   "cell_type": "markdown",
   "metadata": {
    "id": "Q0IRwQvIDAaB"
   },
   "source": [
    "Check your function here."
   ]
  },
  {
   "cell_type": "code",
   "execution_count": 16,
   "metadata": {
    "id": "JvvgYdPUDBf6"
   },
   "outputs": [],
   "source": [
    "dump_data(sales_data, product_details, product_descriptions, main_folder_address)"
   ]
  },
  {
   "cell_type": "markdown",
   "metadata": {
    "id": "3cjHZPLcBt4t"
   },
   "source": [
    "You will notice that *mainfolder* now has new files in the product descriptions/details subfolders, as well as new rows in *sales_data.csv* corresponding to the products that you created in stage 2, and while checking your code."
   ]
  },
  {
   "cell_type": "markdown",
   "metadata": {
    "id": "N5PVdR8mATvh"
   },
   "source": [
    "### Checklist\n",
    "- Define the `dump_data()` function with the specified parameters.\n",
    "- Saved the sales data, product details and the product description into the respective files.\n",
    "- Ensured that the folder structure remains the same for future use."
   ]
  }
 ],
 "metadata": {
  "colab": {
   "provenance": [
    {
     "file_id": "1nZdeeRtjxq9kBP0rHgzG_lfmRBDg0h4L",
     "timestamp": 1721905370155
    },
    {
     "file_id": "1VovxUeLFA__0CohfyBQ0rFCX5cOlJRX0",
     "timestamp": 1721736072038
    },
    {
     "file_id": "1hh3m1P9nz6kCPZQMqPExqMZCJWZSG_lS",
     "timestamp": 1707569095386
    }
   ]
  },
  "kernelspec": {
   "display_name": "Python 3 (ipykernel)",
   "language": "python",
   "name": "python3"
  },
  "language_info": {
   "codemirror_mode": {
    "name": "ipython",
    "version": 3
   },
   "file_extension": ".py",
   "mimetype": "text/x-python",
   "name": "python",
   "nbconvert_exporter": "python",
   "pygments_lexer": "ipython3",
   "version": "3.12.4"
  }
 },
 "nbformat": 4,
 "nbformat_minor": 4
}
